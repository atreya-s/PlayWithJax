{
 "cells": [
  {
   "cell_type": "code",
   "execution_count": 8,
   "metadata": {},
   "outputs": [],
   "source": [
    "import jax\n",
    "import jax.numpy as jnp\n",
    "import numpy as np"
   ]
  },
  {
   "cell_type": "code",
   "execution_count": 3,
   "metadata": {},
   "outputs": [],
   "source": [
    "from typing import Any, Sequence,Callable,NamedTuple, Optional, Tuple\n",
    "PyTree = Any\n",
    "\n",
    "class Optimizer(NamedTuple):\n",
    "    #Given param, initialize optimizer state as tuple\n",
    "    init: Callable[[PyTree], tuple]\n",
    "\n",
    "    update: Callable[[PyTree, tuple, Optional[PyTree]], Tuple[PyTree, tuple]]\n"
   ]
  },
  {
   "cell_type": "code",
   "execution_count": 4,
   "metadata": {},
   "outputs": [],
   "source": [
    "#Implementing SGD\n",
    "from jax.tree_util import tree_map\n",
    "\n",
    "def sgd(lr):\n",
    "    def init(params):\n",
    "        return tuple()\n",
    "    \n",
    "    def update(updates, state, params=None):\n",
    "        update = tree_map(lambda u: -lr * u, updates)\n",
    "        return updates, state\n",
    "    \n",
    "    return Optimizer(init, update)\n"
   ]
  },
  {
   "cell_type": "code",
   "execution_count": 5,
   "metadata": {},
   "outputs": [],
   "source": [
    "#Implementing SGD with Momentum\n",
    "#B1 is the weighting factor \n",
    "\n",
    "def sgd_momentum(lr, momentum=0.0):\n",
    "    def init(params):\n",
    "        param_momentum = tree_map(jnp.zeros_like, params)\n",
    "        return param_momentum\n",
    "    \n",
    "    def update(updates, state, params=None):\n",
    "        state = tree_map(lambda m, g: (1- momentum) * g + momentum * m, state, updates)\n",
    "        updates = tree_map(lambda m: -lr * m, state)\n",
    "\n",
    "        return updates, state\n",
    "    \n",
    "    return Optimizer(init,update)"
   ]
  },
  {
   "cell_type": "code",
   "execution_count": 9,
   "metadata": {},
   "outputs": [],
   "source": [
    "#Implementing Adam\n",
    "\n",
    "def adam(lr, beta1 = 0.9, beta2 = 0.00, eps=1e-8):\n",
    "    def init(params):\n",
    "        step = 0.\n",
    "        param_momentum = tree_map(jnp.zeros_like, params)\n",
    "        param_2nd_momentum = tree_map(jnp.zeroes_like, params)\n",
    "        return (step, params, param_2nd_momentum)\n",
    "    \n",
    "    def update(updates, state, params = None):\n",
    "        step, param_momentum, param_2nd_momentum = state\n",
    "        step +=1 \n",
    "\n",
    "        param_momentum = tree_map(lambda m, g: (1-beta1) * g + beta1 * m, param_momentum, updates)\n",
    "        param_2nd_momentum = tree_map(lambda m2, g:(1-beta2) * g ** 2 + beta2 * m2, param_2nd_momentum, updates)\n",
    "\n",
    "        def update_param(m, m2):\n",
    "            #Bias correction\n",
    "            m /=1 - beta1 ** step\n",
    "            m2 /= 1 - beta2 ** step\n",
    "\n",
    "            return -m * lr / (jnp.sqrt(m2) + eps)\n",
    "        \n",
    "        updates = tree_map(update_param, param_momentum, param_2nd_momentum)\n",
    "\n",
    "        return updates, (step, param_momentum, param_2nd_momentum)\n",
    "    \n",
    "    return Optimizer(init, update)\n"
   ]
  },
  {
   "cell_type": "code",
   "execution_count": null,
   "metadata": {},
   "outputs": [],
   "source": []
  }
 ],
 "metadata": {
  "kernelspec": {
   "display_name": "base",
   "language": "python",
   "name": "python3"
  },
  "language_info": {
   "codemirror_mode": {
    "name": "ipython",
    "version": 3
   },
   "file_extension": ".py",
   "mimetype": "text/x-python",
   "name": "python",
   "nbconvert_exporter": "python",
   "pygments_lexer": "ipython3",
   "version": "3.10.12"
  }
 },
 "nbformat": 4,
 "nbformat_minor": 2
}
